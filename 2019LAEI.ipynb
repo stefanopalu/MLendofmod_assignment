{
 "cells": [
  {
   "cell_type": "code",
   "execution_count": 1,
   "id": "3e3ef1e3",
   "metadata": {},
   "outputs": [],
   "source": [
    "import pandas as pd\n",
    "import numpy as np"
   ]
  },
  {
   "cell_type": "markdown",
   "id": "d5d145b8",
   "metadata": {},
   "source": [
    "Import the first dataset about road traffic flows and vehicle-kilometres for 2019 for each vehicle type"
   ]
  },
  {
   "cell_type": "code",
   "execution_count": 2,
   "id": "f5943af2",
   "metadata": {},
   "outputs": [],
   "source": [
    "vkm_df = pd.read_excel(\"laei-2019-major-roads-vkm-flows-speeds.xlsx\")"
   ]
  },
  {
   "cell_type": "code",
   "execution_count": 3,
   "id": "cf3a5d19",
   "metadata": {},
   "outputs": [
    {
     "data": {
      "text/html": [
       "<div>\n",
       "<style scoped>\n",
       "    .dataframe tbody tr th:only-of-type {\n",
       "        vertical-align: middle;\n",
       "    }\n",
       "\n",
       "    .dataframe tbody tr th {\n",
       "        vertical-align: top;\n",
       "    }\n",
       "\n",
       "    .dataframe thead th {\n",
       "        text-align: right;\n",
       "    }\n",
       "</style>\n",
       "<table border=\"1\" class=\"dataframe\">\n",
       "  <thead>\n",
       "    <tr style=\"text-align: right;\">\n",
       "      <th></th>\n",
       "      <th>Year</th>\n",
       "      <th>TOID</th>\n",
       "      <th>LAEI Zone</th>\n",
       "      <th>Borough</th>\n",
       "      <th>Road Classification</th>\n",
       "      <th>AADT Motorcycle</th>\n",
       "      <th>AADT Taxi</th>\n",
       "      <th>AADT Petrol Car</th>\n",
       "      <th>AADT Diesel Car</th>\n",
       "      <th>AADT Electric Car</th>\n",
       "      <th>...</th>\n",
       "      <th>VKM Electric LGV</th>\n",
       "      <th>VKM 2019 - HGVs - Rigid - 2 Axles</th>\n",
       "      <th>VKM 2019 - HGVs - Rigid - 3 Axles</th>\n",
       "      <th>VKM 2019 - HGVs - Rigid - 4 or more Axles</th>\n",
       "      <th>VKM 2019 - HGVs - Articulated - 3 to 4 Axles</th>\n",
       "      <th>VKM 2019 - HGVs - Articulated - 5 Axles</th>\n",
       "      <th>VKM 2019 - HGVs - Articulated - 6 Axles</th>\n",
       "      <th>VKM 2019 - Buses</th>\n",
       "      <th>VKM 2019 - Coaches</th>\n",
       "      <th>VKM 2019 - Total</th>\n",
       "    </tr>\n",
       "  </thead>\n",
       "  <tbody>\n",
       "    <tr>\n",
       "      <th>0</th>\n",
       "      <td>2019</td>\n",
       "      <td>osgb4000000027947700</td>\n",
       "      <td>Non-GLA</td>\n",
       "      <td>Non-GLA</td>\n",
       "      <td>A Road</td>\n",
       "      <td>112</td>\n",
       "      <td>15</td>\n",
       "      <td>5470</td>\n",
       "      <td>3780</td>\n",
       "      <td>32</td>\n",
       "      <td>...</td>\n",
       "      <td>50</td>\n",
       "      <td>3659</td>\n",
       "      <td>736</td>\n",
       "      <td>1451</td>\n",
       "      <td>531</td>\n",
       "      <td>2759</td>\n",
       "      <td>3659</td>\n",
       "      <td>-</td>\n",
       "      <td>327</td>\n",
       "      <td>231749</td>\n",
       "    </tr>\n",
       "    <tr>\n",
       "      <th>1</th>\n",
       "      <td>2019</td>\n",
       "      <td>osgb4000000027908760</td>\n",
       "      <td>Non-GLA</td>\n",
       "      <td>Non-GLA</td>\n",
       "      <td>A Road</td>\n",
       "      <td>68</td>\n",
       "      <td>10</td>\n",
       "      <td>3049</td>\n",
       "      <td>2107</td>\n",
       "      <td>18</td>\n",
       "      <td>...</td>\n",
       "      <td>78</td>\n",
       "      <td>1718</td>\n",
       "      <td>344</td>\n",
       "      <td>687</td>\n",
       "      <td>258</td>\n",
       "      <td>1289</td>\n",
       "      <td>1718</td>\n",
       "      <td>-</td>\n",
       "      <td>1160</td>\n",
       "      <td>295268</td>\n",
       "    </tr>\n",
       "    <tr>\n",
       "      <th>2</th>\n",
       "      <td>2019</td>\n",
       "      <td>osgb4000000027987795</td>\n",
       "      <td>Non-GLA</td>\n",
       "      <td>Non-GLA</td>\n",
       "      <td>A Road</td>\n",
       "      <td>131</td>\n",
       "      <td>15</td>\n",
       "      <td>5752</td>\n",
       "      <td>3976</td>\n",
       "      <td>34</td>\n",
       "      <td>...</td>\n",
       "      <td>57</td>\n",
       "      <td>1377</td>\n",
       "      <td>275</td>\n",
       "      <td>551</td>\n",
       "      <td>192</td>\n",
       "      <td>1042</td>\n",
       "      <td>1377</td>\n",
       "      <td>-</td>\n",
       "      <td>7746</td>\n",
       "      <td>158880</td>\n",
       "    </tr>\n",
       "    <tr>\n",
       "      <th>3</th>\n",
       "      <td>2019</td>\n",
       "      <td>osgb4000000027869099</td>\n",
       "      <td>Non-GLA</td>\n",
       "      <td>Non-GLA</td>\n",
       "      <td>A Road</td>\n",
       "      <td>178</td>\n",
       "      <td>14</td>\n",
       "      <td>7280</td>\n",
       "      <td>5031</td>\n",
       "      <td>43</td>\n",
       "      <td>...</td>\n",
       "      <td>2066</td>\n",
       "      <td>63666</td>\n",
       "      <td>12679</td>\n",
       "      <td>25359</td>\n",
       "      <td>9172</td>\n",
       "      <td>48019</td>\n",
       "      <td>63396</td>\n",
       "      <td>-</td>\n",
       "      <td>97388</td>\n",
       "      <td>4851571</td>\n",
       "    </tr>\n",
       "    <tr>\n",
       "      <th>4</th>\n",
       "      <td>2019</td>\n",
       "      <td>osgb4000000030443012</td>\n",
       "      <td>Non-GLA</td>\n",
       "      <td>Non-GLA</td>\n",
       "      <td>A Road</td>\n",
       "      <td>178</td>\n",
       "      <td>34</td>\n",
       "      <td>8433</td>\n",
       "      <td>5828</td>\n",
       "      <td>50</td>\n",
       "      <td>...</td>\n",
       "      <td>11</td>\n",
       "      <td>465</td>\n",
       "      <td>94</td>\n",
       "      <td>185</td>\n",
       "      <td>67</td>\n",
       "      <td>352</td>\n",
       "      <td>465</td>\n",
       "      <td>-</td>\n",
       "      <td>446</td>\n",
       "      <td>43270</td>\n",
       "    </tr>\n",
       "  </tbody>\n",
       "</table>\n",
       "<p>5 rows × 48 columns</p>\n",
       "</div>"
      ],
      "text/plain": [
       "   Year                  TOID LAEI Zone  Borough Road Classification  \\\n",
       "0  2019  osgb4000000027947700   Non-GLA  Non-GLA              A Road   \n",
       "1  2019  osgb4000000027908760   Non-GLA  Non-GLA              A Road   \n",
       "2  2019  osgb4000000027987795   Non-GLA  Non-GLA              A Road   \n",
       "3  2019  osgb4000000027869099   Non-GLA  Non-GLA              A Road   \n",
       "4  2019  osgb4000000030443012   Non-GLA  Non-GLA              A Road   \n",
       "\n",
       "   AADT Motorcycle   AADT Taxi   AADT Petrol Car   AADT Diesel Car   \\\n",
       "0               112          15              5470              3780   \n",
       "1                68          10              3049              2107   \n",
       "2               131          15              5752              3976   \n",
       "3               178          14              7280              5031   \n",
       "4               178          34              8433              5828   \n",
       "\n",
       "   AADT Electric Car   ...  VKM Electric LGV   \\\n",
       "0                  32  ...                 50   \n",
       "1                  18  ...                 78   \n",
       "2                  34  ...                 57   \n",
       "3                  43  ...               2066   \n",
       "4                  50  ...                 11   \n",
       "\n",
       "   VKM 2019 - HGVs - Rigid - 2 Axles   VKM 2019 - HGVs - Rigid - 3 Axles   \\\n",
       "0                                3659                                 736   \n",
       "1                                1718                                 344   \n",
       "2                                1377                                 275   \n",
       "3                               63666                               12679   \n",
       "4                                 465                                  94   \n",
       "\n",
       "   VKM 2019 - HGVs - Rigid - 4 or more Axles   \\\n",
       "0                                        1451   \n",
       "1                                         687   \n",
       "2                                         551   \n",
       "3                                       25359   \n",
       "4                                         185   \n",
       "\n",
       "   VKM 2019 - HGVs - Articulated - 3 to 4 Axles   \\\n",
       "0                                            531   \n",
       "1                                            258   \n",
       "2                                            192   \n",
       "3                                           9172   \n",
       "4                                             67   \n",
       "\n",
       "   VKM 2019 - HGVs - Articulated - 5 Axles   \\\n",
       "0                                      2759   \n",
       "1                                      1289   \n",
       "2                                      1042   \n",
       "3                                     48019   \n",
       "4                                       352   \n",
       "\n",
       "   VKM 2019 - HGVs - Articulated - 6 Axles   VKM 2019 - Buses   \\\n",
       "0                                      3659               -      \n",
       "1                                      1718               -      \n",
       "2                                      1377               -      \n",
       "3                                     63396               -      \n",
       "4                                       465               -      \n",
       "\n",
       "   VKM 2019 - Coaches   VKM 2019 - Total   \n",
       "0                  327             231749  \n",
       "1                 1160             295268  \n",
       "2                 7746             158880  \n",
       "3                97388            4851571  \n",
       "4                  446              43270  \n",
       "\n",
       "[5 rows x 48 columns]"
      ]
     },
     "execution_count": 3,
     "metadata": {},
     "output_type": "execute_result"
    }
   ],
   "source": [
    "vkm_df.head()"
   ]
  },
  {
   "cell_type": "code",
   "execution_count": 4,
   "id": "3ef903f1",
   "metadata": {},
   "outputs": [
    {
     "data": {
      "text/plain": [
       "(79437, 48)"
      ]
     },
     "execution_count": 4,
     "metadata": {},
     "output_type": "execute_result"
    }
   ],
   "source": [
    "vkm_df.shape"
   ]
  },
  {
   "cell_type": "code",
   "execution_count": 22,
   "id": "ffe92bb0",
   "metadata": {},
   "outputs": [
    {
     "data": {
      "text/plain": [
       "Index(['Year', 'TOID', 'LAEI Zone', 'Borough', 'Road Classification',\n",
       "       ' AADT Motorcycle ', ' AADT Taxi ', ' AADT Petrol Car ',\n",
       "       ' AADT Diesel Car ', ' AADT Electric Car ', ' AADT Petrol PHV ',\n",
       "       ' AADT Diesel PHV ', ' AADT Electric PHV ', ' AADT Petrol LGV ',\n",
       "       ' AADT Diesel LGV ', ' AADT Electric LGV ',\n",
       "       ' AADT 2019 - HGVs - Rigid - 2 Axles ',\n",
       "       ' AADT 2019 - HGVs - Rigid - 3 Axles ',\n",
       "       ' AADT 2019 - HGVs - Rigid - 4 or more Axles ',\n",
       "       ' AADT 2019 - HGVs - Articulated - 3 to 4 Axles ',\n",
       "       ' AADT 2019 - HGVs - Articulated - 5 Axles ',\n",
       "       ' AADT 2019 - HGVs - Articulated - 6 Axles ', ' AADT 2019 - Buses ',\n",
       "       ' AADT 2019 - Coaches ', ' AADT 2019 - Total ',\n",
       "       ' Speed (km/hr) - Except Buses ', ' Speed (km/hr) - Buses Only ',\n",
       "       ' Link Length (m) ', ' VKM Motorcycle ', ' VKM Taxi ',\n",
       "       ' VKM Petrol Car ', ' VKM Diesel Car ', ' VKM Electric Car ',\n",
       "       ' VKM Petrol PHV ', ' VKM Diesel PHV ', ' VKM Electric PHV ',\n",
       "       ' VKM Petrol LGV ', ' VKM Diesel LGV ', ' VKM Electric LGV ',\n",
       "       ' VKM 2019 - HGVs - Rigid - 2 Axles ',\n",
       "       ' VKM 2019 - HGVs - Rigid - 3 Axles ',\n",
       "       ' VKM 2019 - HGVs - Rigid - 4 or more Axles ',\n",
       "       ' VKM 2019 - HGVs - Articulated - 3 to 4 Axles ',\n",
       "       ' VKM 2019 - HGVs - Articulated - 5 Axles ',\n",
       "       ' VKM 2019 - HGVs - Articulated - 6 Axles ', ' VKM 2019 - Buses ',\n",
       "       ' VKM 2019 - Coaches ', ' VKM 2019 - Total '],\n",
       "      dtype='object')"
      ]
     },
     "execution_count": 22,
     "metadata": {},
     "output_type": "execute_result"
    }
   ],
   "source": [
    "vkm_df.columns"
   ]
  },
  {
   "cell_type": "markdown",
   "id": "ed580cf9",
   "metadata": {},
   "source": [
    "This dataset likely serves to analyze and estimate vehicle emissions at a road network level, focusing on traffic volume (via AADT and VKM data) and vehicle types (motorcycles, cars, buses, etc.). TOID is a unique identifier for each road segment or link in the road network."
   ]
  },
  {
   "cell_type": "markdown",
   "id": "d7ec39fb",
   "metadata": {},
   "source": [
    "The second dataset includes emissions of key pollutants NOx, PM10, PM2.5 and CO2, and a range of additional pollutants (SO2, CH4, VOC...) in tonnes/year for 2013, 2016, 2019, 2025 and 2030 for each source category at a 1km grid square resolution"
   ]
  },
  {
   "cell_type": "code",
   "execution_count": 9,
   "id": "7e499a44",
   "metadata": {},
   "outputs": [],
   "source": [
    "emissions_df = pd.read_excel(\"LAEI-2019-Emissions-Summary-including-Forecast.xlsx\", sheet_name=\"Emissions by Grid ID\")"
   ]
  },
  {
   "cell_type": "code",
   "execution_count": 11,
   "id": "b142e96e",
   "metadata": {},
   "outputs": [
    {
     "data": {
      "text/html": [
       "<div>\n",
       "<style scoped>\n",
       "    .dataframe tbody tr th:only-of-type {\n",
       "        vertical-align: middle;\n",
       "    }\n",
       "\n",
       "    .dataframe tbody tr th {\n",
       "        vertical-align: top;\n",
       "    }\n",
       "\n",
       "    .dataframe thead th {\n",
       "        text-align: right;\n",
       "    }\n",
       "</style>\n",
       "<table border=\"1\" class=\"dataframe\">\n",
       "  <thead>\n",
       "    <tr style=\"text-align: right;\">\n",
       "      <th></th>\n",
       "      <th>Year</th>\n",
       "      <th>Grid ID 2019</th>\n",
       "      <th>LAEI 1km2 ID</th>\n",
       "      <th>Easting</th>\n",
       "      <th>Northing</th>\n",
       "      <th>Borough</th>\n",
       "      <th>Zone</th>\n",
       "      <th>Main Source Category</th>\n",
       "      <th>Sector</th>\n",
       "      <th>Source</th>\n",
       "      <th>...</th>\n",
       "      <th>n2o</th>\n",
       "      <th>nh3</th>\n",
       "      <th>nmvoc</th>\n",
       "      <th>nox</th>\n",
       "      <th>pb</th>\n",
       "      <th>pcb</th>\n",
       "      <th>pm10</th>\n",
       "      <th>pm2.5</th>\n",
       "      <th>so2</th>\n",
       "      <th>Emissions Unit</th>\n",
       "    </tr>\n",
       "  </thead>\n",
       "  <tbody>\n",
       "    <tr>\n",
       "      <th>0</th>\n",
       "      <td>2030</td>\n",
       "      <td>1</td>\n",
       "      <td>5910</td>\n",
       "      <td>510500</td>\n",
       "      <td>203500</td>\n",
       "      <td>Non GLA</td>\n",
       "      <td>Non GLA</td>\n",
       "      <td>Domestic</td>\n",
       "      <td>Biomass</td>\n",
       "      <td>Wood Burning</td>\n",
       "      <td>...</td>\n",
       "      <td>NaN</td>\n",
       "      <td>NaN</td>\n",
       "      <td>NaN</td>\n",
       "      <td>NaN</td>\n",
       "      <td>NaN</td>\n",
       "      <td>NaN</td>\n",
       "      <td>0.019183</td>\n",
       "      <td>0.019183</td>\n",
       "      <td>NaN</td>\n",
       "      <td>tonnes/annum</td>\n",
       "    </tr>\n",
       "    <tr>\n",
       "      <th>1</th>\n",
       "      <td>2030</td>\n",
       "      <td>2</td>\n",
       "      <td>5911</td>\n",
       "      <td>511500</td>\n",
       "      <td>203500</td>\n",
       "      <td>Non GLA</td>\n",
       "      <td>Non GLA</td>\n",
       "      <td>Domestic</td>\n",
       "      <td>Biomass</td>\n",
       "      <td>Wood Burning</td>\n",
       "      <td>...</td>\n",
       "      <td>NaN</td>\n",
       "      <td>NaN</td>\n",
       "      <td>NaN</td>\n",
       "      <td>NaN</td>\n",
       "      <td>NaN</td>\n",
       "      <td>NaN</td>\n",
       "      <td>0.015719</td>\n",
       "      <td>0.015719</td>\n",
       "      <td>NaN</td>\n",
       "      <td>tonnes/annum</td>\n",
       "    </tr>\n",
       "    <tr>\n",
       "      <th>2</th>\n",
       "      <td>2030</td>\n",
       "      <td>3</td>\n",
       "      <td>5912</td>\n",
       "      <td>512500</td>\n",
       "      <td>203500</td>\n",
       "      <td>Non GLA</td>\n",
       "      <td>Non GLA</td>\n",
       "      <td>Domestic</td>\n",
       "      <td>Biomass</td>\n",
       "      <td>Wood Burning</td>\n",
       "      <td>...</td>\n",
       "      <td>NaN</td>\n",
       "      <td>NaN</td>\n",
       "      <td>NaN</td>\n",
       "      <td>NaN</td>\n",
       "      <td>NaN</td>\n",
       "      <td>NaN</td>\n",
       "      <td>0.019878</td>\n",
       "      <td>0.019878</td>\n",
       "      <td>NaN</td>\n",
       "      <td>tonnes/annum</td>\n",
       "    </tr>\n",
       "    <tr>\n",
       "      <th>3</th>\n",
       "      <td>2030</td>\n",
       "      <td>4</td>\n",
       "      <td>5915</td>\n",
       "      <td>515500</td>\n",
       "      <td>203500</td>\n",
       "      <td>Non GLA</td>\n",
       "      <td>Non GLA</td>\n",
       "      <td>Domestic</td>\n",
       "      <td>Biomass</td>\n",
       "      <td>Wood Burning</td>\n",
       "      <td>...</td>\n",
       "      <td>NaN</td>\n",
       "      <td>NaN</td>\n",
       "      <td>NaN</td>\n",
       "      <td>NaN</td>\n",
       "      <td>NaN</td>\n",
       "      <td>NaN</td>\n",
       "      <td>0.020946</td>\n",
       "      <td>0.020946</td>\n",
       "      <td>NaN</td>\n",
       "      <td>tonnes/annum</td>\n",
       "    </tr>\n",
       "    <tr>\n",
       "      <th>4</th>\n",
       "      <td>2030</td>\n",
       "      <td>5</td>\n",
       "      <td>5916</td>\n",
       "      <td>516500</td>\n",
       "      <td>203500</td>\n",
       "      <td>Non GLA</td>\n",
       "      <td>Non GLA</td>\n",
       "      <td>Domestic</td>\n",
       "      <td>Biomass</td>\n",
       "      <td>Wood Burning</td>\n",
       "      <td>...</td>\n",
       "      <td>NaN</td>\n",
       "      <td>NaN</td>\n",
       "      <td>NaN</td>\n",
       "      <td>NaN</td>\n",
       "      <td>NaN</td>\n",
       "      <td>NaN</td>\n",
       "      <td>0.020105</td>\n",
       "      <td>0.020105</td>\n",
       "      <td>NaN</td>\n",
       "      <td>tonnes/annum</td>\n",
       "    </tr>\n",
       "  </tbody>\n",
       "</table>\n",
       "<p>5 rows × 30 columns</p>\n",
       "</div>"
      ],
      "text/plain": [
       "   Year  Grid ID 2019  LAEI 1km2 ID  Easting  Northing  Borough     Zone  \\\n",
       "0  2030             1          5910   510500    203500  Non GLA  Non GLA   \n",
       "1  2030             2          5911   511500    203500  Non GLA  Non GLA   \n",
       "2  2030             3          5912   512500    203500  Non GLA  Non GLA   \n",
       "3  2030             4          5915   515500    203500  Non GLA  Non GLA   \n",
       "4  2030             5          5916   516500    203500  Non GLA  Non GLA   \n",
       "\n",
       "  Main Source Category   Sector        Source  ...  n2o  nh3  nmvoc  nox  pb  \\\n",
       "0             Domestic  Biomass  Wood Burning  ...  NaN  NaN    NaN  NaN NaN   \n",
       "1             Domestic  Biomass  Wood Burning  ...  NaN  NaN    NaN  NaN NaN   \n",
       "2             Domestic  Biomass  Wood Burning  ...  NaN  NaN    NaN  NaN NaN   \n",
       "3             Domestic  Biomass  Wood Burning  ...  NaN  NaN    NaN  NaN NaN   \n",
       "4             Domestic  Biomass  Wood Burning  ...  NaN  NaN    NaN  NaN NaN   \n",
       "\n",
       "   pcb      pm10     pm2.5  so2  Emissions Unit  \n",
       "0  NaN  0.019183  0.019183  NaN    tonnes/annum  \n",
       "1  NaN  0.015719  0.015719  NaN    tonnes/annum  \n",
       "2  NaN  0.019878  0.019878  NaN    tonnes/annum  \n",
       "3  NaN  0.020946  0.020946  NaN    tonnes/annum  \n",
       "4  NaN  0.020105  0.020105  NaN    tonnes/annum  \n",
       "\n",
       "[5 rows x 30 columns]"
      ]
     },
     "execution_count": 11,
     "metadata": {},
     "output_type": "execute_result"
    }
   ],
   "source": [
    "emissions_df.head()"
   ]
  },
  {
   "cell_type": "code",
   "execution_count": 12,
   "id": "0f4bf0b0",
   "metadata": {},
   "outputs": [
    {
     "data": {
      "text/plain": [
       "(699120, 30)"
      ]
     },
     "execution_count": 12,
     "metadata": {},
     "output_type": "execute_result"
    }
   ],
   "source": [
    "emissions_df.shape"
   ]
  },
  {
   "cell_type": "code",
   "execution_count": 26,
   "id": "74881cf9",
   "metadata": {},
   "outputs": [
    {
     "data": {
      "text/plain": [
       "Index(['Year', 'Grid ID 2019', 'LAEI 1km2 ID', 'Easting', 'Northing',\n",
       "       'Borough', 'Zone', 'Main Source Category', 'Sector', 'Source', 'bap',\n",
       "       'cd', 'c4h6', 'c6h6', 'ch4', 'co', 'co2', 'hc', 'hcl', 'hg', 'n2o',\n",
       "       'nh3', 'nmvoc', 'nox', 'pb', 'pcb', 'pm10', 'pm2.5', 'so2',\n",
       "       'Emissions Unit'],\n",
       "      dtype='object')"
      ]
     },
     "execution_count": 26,
     "metadata": {},
     "output_type": "execute_result"
    }
   ],
   "source": [
    "emissions_df.columns"
   ]
  },
  {
   "cell_type": "markdown",
   "id": "9b224835",
   "metadata": {},
   "source": [
    "We can use the location related columns in this dataset to connect it to the concentration dataset. Easting and Northing are the X and Y in the concentration dataset."
   ]
  },
  {
   "cell_type": "markdown",
   "id": "a6440aa1",
   "metadata": {},
   "source": [
    "We can divide the dataset by pollutant type and year"
   ]
  },
  {
   "cell_type": "code",
   "execution_count": 29,
   "id": "efdadd01",
   "metadata": {},
   "outputs": [],
   "source": [
    "emissions_PM10_df = emissions_df[emissions_df['pm10'].notna()]"
   ]
  },
  {
   "cell_type": "code",
   "execution_count": 30,
   "id": "c4b1e400",
   "metadata": {},
   "outputs": [
    {
     "data": {
      "text/html": [
       "<div>\n",
       "<style scoped>\n",
       "    .dataframe tbody tr th:only-of-type {\n",
       "        vertical-align: middle;\n",
       "    }\n",
       "\n",
       "    .dataframe tbody tr th {\n",
       "        vertical-align: top;\n",
       "    }\n",
       "\n",
       "    .dataframe thead th {\n",
       "        text-align: right;\n",
       "    }\n",
       "</style>\n",
       "<table border=\"1\" class=\"dataframe\">\n",
       "  <thead>\n",
       "    <tr style=\"text-align: right;\">\n",
       "      <th></th>\n",
       "      <th>Year</th>\n",
       "      <th>Grid ID 2019</th>\n",
       "      <th>LAEI 1km2 ID</th>\n",
       "      <th>Easting</th>\n",
       "      <th>Northing</th>\n",
       "      <th>Borough</th>\n",
       "      <th>Zone</th>\n",
       "      <th>Main Source Category</th>\n",
       "      <th>Sector</th>\n",
       "      <th>Source</th>\n",
       "      <th>...</th>\n",
       "      <th>n2o</th>\n",
       "      <th>nh3</th>\n",
       "      <th>nmvoc</th>\n",
       "      <th>nox</th>\n",
       "      <th>pb</th>\n",
       "      <th>pcb</th>\n",
       "      <th>pm10</th>\n",
       "      <th>pm2.5</th>\n",
       "      <th>so2</th>\n",
       "      <th>Emissions Unit</th>\n",
       "    </tr>\n",
       "  </thead>\n",
       "  <tbody>\n",
       "    <tr>\n",
       "      <th>0</th>\n",
       "      <td>2030</td>\n",
       "      <td>1</td>\n",
       "      <td>5910</td>\n",
       "      <td>510500</td>\n",
       "      <td>203500</td>\n",
       "      <td>Non GLA</td>\n",
       "      <td>Non GLA</td>\n",
       "      <td>Domestic</td>\n",
       "      <td>Biomass</td>\n",
       "      <td>Wood Burning</td>\n",
       "      <td>...</td>\n",
       "      <td>NaN</td>\n",
       "      <td>NaN</td>\n",
       "      <td>NaN</td>\n",
       "      <td>NaN</td>\n",
       "      <td>NaN</td>\n",
       "      <td>NaN</td>\n",
       "      <td>0.019183</td>\n",
       "      <td>0.019183</td>\n",
       "      <td>NaN</td>\n",
       "      <td>tonnes/annum</td>\n",
       "    </tr>\n",
       "    <tr>\n",
       "      <th>1</th>\n",
       "      <td>2030</td>\n",
       "      <td>2</td>\n",
       "      <td>5911</td>\n",
       "      <td>511500</td>\n",
       "      <td>203500</td>\n",
       "      <td>Non GLA</td>\n",
       "      <td>Non GLA</td>\n",
       "      <td>Domestic</td>\n",
       "      <td>Biomass</td>\n",
       "      <td>Wood Burning</td>\n",
       "      <td>...</td>\n",
       "      <td>NaN</td>\n",
       "      <td>NaN</td>\n",
       "      <td>NaN</td>\n",
       "      <td>NaN</td>\n",
       "      <td>NaN</td>\n",
       "      <td>NaN</td>\n",
       "      <td>0.015719</td>\n",
       "      <td>0.015719</td>\n",
       "      <td>NaN</td>\n",
       "      <td>tonnes/annum</td>\n",
       "    </tr>\n",
       "    <tr>\n",
       "      <th>2</th>\n",
       "      <td>2030</td>\n",
       "      <td>3</td>\n",
       "      <td>5912</td>\n",
       "      <td>512500</td>\n",
       "      <td>203500</td>\n",
       "      <td>Non GLA</td>\n",
       "      <td>Non GLA</td>\n",
       "      <td>Domestic</td>\n",
       "      <td>Biomass</td>\n",
       "      <td>Wood Burning</td>\n",
       "      <td>...</td>\n",
       "      <td>NaN</td>\n",
       "      <td>NaN</td>\n",
       "      <td>NaN</td>\n",
       "      <td>NaN</td>\n",
       "      <td>NaN</td>\n",
       "      <td>NaN</td>\n",
       "      <td>0.019878</td>\n",
       "      <td>0.019878</td>\n",
       "      <td>NaN</td>\n",
       "      <td>tonnes/annum</td>\n",
       "    </tr>\n",
       "    <tr>\n",
       "      <th>3</th>\n",
       "      <td>2030</td>\n",
       "      <td>4</td>\n",
       "      <td>5915</td>\n",
       "      <td>515500</td>\n",
       "      <td>203500</td>\n",
       "      <td>Non GLA</td>\n",
       "      <td>Non GLA</td>\n",
       "      <td>Domestic</td>\n",
       "      <td>Biomass</td>\n",
       "      <td>Wood Burning</td>\n",
       "      <td>...</td>\n",
       "      <td>NaN</td>\n",
       "      <td>NaN</td>\n",
       "      <td>NaN</td>\n",
       "      <td>NaN</td>\n",
       "      <td>NaN</td>\n",
       "      <td>NaN</td>\n",
       "      <td>0.020946</td>\n",
       "      <td>0.020946</td>\n",
       "      <td>NaN</td>\n",
       "      <td>tonnes/annum</td>\n",
       "    </tr>\n",
       "    <tr>\n",
       "      <th>4</th>\n",
       "      <td>2030</td>\n",
       "      <td>5</td>\n",
       "      <td>5916</td>\n",
       "      <td>516500</td>\n",
       "      <td>203500</td>\n",
       "      <td>Non GLA</td>\n",
       "      <td>Non GLA</td>\n",
       "      <td>Domestic</td>\n",
       "      <td>Biomass</td>\n",
       "      <td>Wood Burning</td>\n",
       "      <td>...</td>\n",
       "      <td>NaN</td>\n",
       "      <td>NaN</td>\n",
       "      <td>NaN</td>\n",
       "      <td>NaN</td>\n",
       "      <td>NaN</td>\n",
       "      <td>NaN</td>\n",
       "      <td>0.020105</td>\n",
       "      <td>0.020105</td>\n",
       "      <td>NaN</td>\n",
       "      <td>tonnes/annum</td>\n",
       "    </tr>\n",
       "  </tbody>\n",
       "</table>\n",
       "<p>5 rows × 30 columns</p>\n",
       "</div>"
      ],
      "text/plain": [
       "   Year  Grid ID 2019  LAEI 1km2 ID  Easting  Northing  Borough     Zone  \\\n",
       "0  2030             1          5910   510500    203500  Non GLA  Non GLA   \n",
       "1  2030             2          5911   511500    203500  Non GLA  Non GLA   \n",
       "2  2030             3          5912   512500    203500  Non GLA  Non GLA   \n",
       "3  2030             4          5915   515500    203500  Non GLA  Non GLA   \n",
       "4  2030             5          5916   516500    203500  Non GLA  Non GLA   \n",
       "\n",
       "  Main Source Category   Sector        Source  ...  n2o  nh3  nmvoc  nox  pb  \\\n",
       "0             Domestic  Biomass  Wood Burning  ...  NaN  NaN    NaN  NaN NaN   \n",
       "1             Domestic  Biomass  Wood Burning  ...  NaN  NaN    NaN  NaN NaN   \n",
       "2             Domestic  Biomass  Wood Burning  ...  NaN  NaN    NaN  NaN NaN   \n",
       "3             Domestic  Biomass  Wood Burning  ...  NaN  NaN    NaN  NaN NaN   \n",
       "4             Domestic  Biomass  Wood Burning  ...  NaN  NaN    NaN  NaN NaN   \n",
       "\n",
       "   pcb      pm10     pm2.5  so2  Emissions Unit  \n",
       "0  NaN  0.019183  0.019183  NaN    tonnes/annum  \n",
       "1  NaN  0.015719  0.015719  NaN    tonnes/annum  \n",
       "2  NaN  0.019878  0.019878  NaN    tonnes/annum  \n",
       "3  NaN  0.020946  0.020946  NaN    tonnes/annum  \n",
       "4  NaN  0.020105  0.020105  NaN    tonnes/annum  \n",
       "\n",
       "[5 rows x 30 columns]"
      ]
     },
     "execution_count": 30,
     "metadata": {},
     "output_type": "execute_result"
    }
   ],
   "source": [
    "emissions_PM10_df.head()"
   ]
  },
  {
   "cell_type": "markdown",
   "id": "68d7c3a5",
   "metadata": {},
   "source": [
    "This is the data about the year 2019 for PM10"
   ]
  },
  {
   "cell_type": "code",
   "execution_count": null,
   "id": "7a83fd5d",
   "metadata": {},
   "outputs": [],
   "source": [
    "emissions2019_PM10_df = emissions_df[(emissions_df['pm10'].notna()) & (emissions_df['Year'] == 2019)]"
   ]
  },
  {
   "cell_type": "code",
   "execution_count": 35,
   "id": "888e668d",
   "metadata": {},
   "outputs": [
    {
     "data": {
      "text/plain": [
       "(140516, 30)"
      ]
     },
     "execution_count": 35,
     "metadata": {},
     "output_type": "execute_result"
    }
   ],
   "source": [
    "emissions2019_PM10_df.shape"
   ]
  },
  {
   "cell_type": "markdown",
   "id": "40f5c4be",
   "metadata": {},
   "source": [
    "The third dataset is about road transport emissions (NOx, PM10, PM2.5, and CO2) for 2019, 2025, and 2030, and includes data by vehicle type and specific PM emissions (exhaust, brake wear, and tire wear). there is a different sheet for each of the four pollutants (NOx, PM10, PM2.5, and CO2) in the Excel file that needs to be specified in the sheet_name parameter when loading the data"
   ]
  },
  {
   "cell_type": "markdown",
   "id": "ea62aaa7",
   "metadata": {},
   "source": [
    "This one is the sheet about PM10"
   ]
  },
  {
   "cell_type": "code",
   "execution_count": 23,
   "id": "5a6f7dce",
   "metadata": {},
   "outputs": [],
   "source": [
    "emissionsroads_PM10_df = pd.read_excel(\"LAEI2019-nox-pm-co2-major-roads-link-emissions.xlsx\", sheet_name=\"PM10 Road Link Emissions\")"
   ]
  },
  {
   "cell_type": "code",
   "execution_count": 31,
   "id": "e2867c08",
   "metadata": {},
   "outputs": [
    {
     "data": {
      "text/plain": [
       "(238317, 52)"
      ]
     },
     "execution_count": 31,
     "metadata": {},
     "output_type": "execute_result"
    }
   ],
   "source": [
    "emissionsroads_PM10_df.shape"
   ]
  },
  {
   "cell_type": "code",
   "execution_count": 24,
   "id": "79bbd5e9",
   "metadata": {},
   "outputs": [
    {
     "data": {
      "text/html": [
       "<div>\n",
       "<style scoped>\n",
       "    .dataframe tbody tr th:only-of-type {\n",
       "        vertical-align: middle;\n",
       "    }\n",
       "\n",
       "    .dataframe tbody tr th {\n",
       "        vertical-align: top;\n",
       "    }\n",
       "\n",
       "    .dataframe thead th {\n",
       "        text-align: right;\n",
       "    }\n",
       "</style>\n",
       "<table border=\"1\" class=\"dataframe\">\n",
       "  <thead>\n",
       "    <tr style=\"text-align: right;\">\n",
       "      <th></th>\n",
       "      <th>TOID</th>\n",
       "      <th>pollutant</th>\n",
       "      <th>pm-source</th>\n",
       "      <th>emissions-units</th>\n",
       "      <th>Road-Car-Petrol-2019</th>\n",
       "      <th>Road-Car-Petrol-2025</th>\n",
       "      <th>Road-Car-Petrol-2030</th>\n",
       "      <th>Road-Car-Diesel-2019</th>\n",
       "      <th>Road-Car-Diesel-2025</th>\n",
       "      <th>Road-Car-Diesel-2030</th>\n",
       "      <th>...</th>\n",
       "      <th>Road-Non-TfL-Bus-or-Coach-2030</th>\n",
       "      <th>Road-Taxi-2019</th>\n",
       "      <th>Road-Taxi-2025</th>\n",
       "      <th>Road-Taxi-2030</th>\n",
       "      <th>Road-Motorcycle-2019</th>\n",
       "      <th>Road-Motorcycle-2025</th>\n",
       "      <th>Road-Motorcycle-2030</th>\n",
       "      <th>Road-Total-2019</th>\n",
       "      <th>Road-Total-2025</th>\n",
       "      <th>Road-Total-2030</th>\n",
       "    </tr>\n",
       "  </thead>\n",
       "  <tbody>\n",
       "    <tr>\n",
       "      <th>0</th>\n",
       "      <td>osgb4000000027865913</td>\n",
       "      <td>pm10</td>\n",
       "      <td>exhaust</td>\n",
       "      <td>tonnes/year</td>\n",
       "      <td>0.027772</td>\n",
       "      <td>0.026916</td>\n",
       "      <td>0.021559</td>\n",
       "      <td>0.119410</td>\n",
       "      <td>0.023310</td>\n",
       "      <td>0.006968</td>\n",
       "      <td>...</td>\n",
       "      <td>0.000940</td>\n",
       "      <td>0.000467</td>\n",
       "      <td>0.000058</td>\n",
       "      <td>0.000052</td>\n",
       "      <td>0.002146</td>\n",
       "      <td>0.001608</td>\n",
       "      <td>0.001419</td>\n",
       "      <td>0.273490</td>\n",
       "      <td>0.074153</td>\n",
       "      <td>0.042511</td>\n",
       "    </tr>\n",
       "    <tr>\n",
       "      <th>1</th>\n",
       "      <td>osgb4000000027865914</td>\n",
       "      <td>pm10</td>\n",
       "      <td>exhaust</td>\n",
       "      <td>tonnes/year</td>\n",
       "      <td>0.027955</td>\n",
       "      <td>0.028748</td>\n",
       "      <td>0.023069</td>\n",
       "      <td>0.119109</td>\n",
       "      <td>0.024336</td>\n",
       "      <td>0.007216</td>\n",
       "      <td>...</td>\n",
       "      <td>0.001115</td>\n",
       "      <td>0.000786</td>\n",
       "      <td>0.000099</td>\n",
       "      <td>0.000083</td>\n",
       "      <td>0.002184</td>\n",
       "      <td>0.001752</td>\n",
       "      <td>0.001540</td>\n",
       "      <td>0.314744</td>\n",
       "      <td>0.083489</td>\n",
       "      <td>0.047803</td>\n",
       "    </tr>\n",
       "    <tr>\n",
       "      <th>2</th>\n",
       "      <td>osgb4000000027865915</td>\n",
       "      <td>pm10</td>\n",
       "      <td>exhaust</td>\n",
       "      <td>tonnes/year</td>\n",
       "      <td>0.025853</td>\n",
       "      <td>0.029750</td>\n",
       "      <td>0.033082</td>\n",
       "      <td>0.107461</td>\n",
       "      <td>0.032148</td>\n",
       "      <td>0.018957</td>\n",
       "      <td>...</td>\n",
       "      <td>0.000679</td>\n",
       "      <td>0.000975</td>\n",
       "      <td>0.000083</td>\n",
       "      <td>0.000073</td>\n",
       "      <td>0.001652</td>\n",
       "      <td>0.001315</td>\n",
       "      <td>0.001357</td>\n",
       "      <td>0.320484</td>\n",
       "      <td>0.137564</td>\n",
       "      <td>0.099260</td>\n",
       "    </tr>\n",
       "    <tr>\n",
       "      <th>3</th>\n",
       "      <td>osgb4000000027865916</td>\n",
       "      <td>pm10</td>\n",
       "      <td>exhaust</td>\n",
       "      <td>tonnes/year</td>\n",
       "      <td>0.030315</td>\n",
       "      <td>0.037069</td>\n",
       "      <td>0.041507</td>\n",
       "      <td>0.121762</td>\n",
       "      <td>0.034694</td>\n",
       "      <td>0.020029</td>\n",
       "      <td>...</td>\n",
       "      <td>0.000540</td>\n",
       "      <td>0.000818</td>\n",
       "      <td>0.000078</td>\n",
       "      <td>0.000062</td>\n",
       "      <td>0.001762</td>\n",
       "      <td>0.001393</td>\n",
       "      <td>0.001447</td>\n",
       "      <td>0.361042</td>\n",
       "      <td>0.152194</td>\n",
       "      <td>0.108697</td>\n",
       "    </tr>\n",
       "    <tr>\n",
       "      <th>4</th>\n",
       "      <td>osgb4000000027865917</td>\n",
       "      <td>pm10</td>\n",
       "      <td>exhaust</td>\n",
       "      <td>tonnes/year</td>\n",
       "      <td>0.017942</td>\n",
       "      <td>0.021212</td>\n",
       "      <td>0.023505</td>\n",
       "      <td>0.072647</td>\n",
       "      <td>0.020763</td>\n",
       "      <td>0.011928</td>\n",
       "      <td>...</td>\n",
       "      <td>0.000471</td>\n",
       "      <td>0.000900</td>\n",
       "      <td>0.000076</td>\n",
       "      <td>0.000065</td>\n",
       "      <td>0.001078</td>\n",
       "      <td>0.000852</td>\n",
       "      <td>0.000877</td>\n",
       "      <td>0.223138</td>\n",
       "      <td>0.092968</td>\n",
       "      <td>0.065531</td>\n",
       "    </tr>\n",
       "  </tbody>\n",
       "</table>\n",
       "<p>5 rows × 52 columns</p>\n",
       "</div>"
      ],
      "text/plain": [
       "                   TOID pollutant pm-source emissions-units  \\\n",
       "0  osgb4000000027865913      pm10   exhaust     tonnes/year   \n",
       "1  osgb4000000027865914      pm10   exhaust     tonnes/year   \n",
       "2  osgb4000000027865915      pm10   exhaust     tonnes/year   \n",
       "3  osgb4000000027865916      pm10   exhaust     tonnes/year   \n",
       "4  osgb4000000027865917      pm10   exhaust     tonnes/year   \n",
       "\n",
       "   Road-Car-Petrol-2019  Road-Car-Petrol-2025  Road-Car-Petrol-2030  \\\n",
       "0              0.027772              0.026916              0.021559   \n",
       "1              0.027955              0.028748              0.023069   \n",
       "2              0.025853              0.029750              0.033082   \n",
       "3              0.030315              0.037069              0.041507   \n",
       "4              0.017942              0.021212              0.023505   \n",
       "\n",
       "   Road-Car-Diesel-2019  Road-Car-Diesel-2025  Road-Car-Diesel-2030  ...  \\\n",
       "0              0.119410              0.023310              0.006968  ...   \n",
       "1              0.119109              0.024336              0.007216  ...   \n",
       "2              0.107461              0.032148              0.018957  ...   \n",
       "3              0.121762              0.034694              0.020029  ...   \n",
       "4              0.072647              0.020763              0.011928  ...   \n",
       "\n",
       "   Road-Non-TfL-Bus-or-Coach-2030  Road-Taxi-2019  Road-Taxi-2025  \\\n",
       "0                        0.000940        0.000467        0.000058   \n",
       "1                        0.001115        0.000786        0.000099   \n",
       "2                        0.000679        0.000975        0.000083   \n",
       "3                        0.000540        0.000818        0.000078   \n",
       "4                        0.000471        0.000900        0.000076   \n",
       "\n",
       "   Road-Taxi-2030  Road-Motorcycle-2019  Road-Motorcycle-2025  \\\n",
       "0        0.000052              0.002146              0.001608   \n",
       "1        0.000083              0.002184              0.001752   \n",
       "2        0.000073              0.001652              0.001315   \n",
       "3        0.000062              0.001762              0.001393   \n",
       "4        0.000065              0.001078              0.000852   \n",
       "\n",
       "   Road-Motorcycle-2030  Road-Total-2019  Road-Total-2025  Road-Total-2030  \n",
       "0              0.001419         0.273490         0.074153         0.042511  \n",
       "1              0.001540         0.314744         0.083489         0.047803  \n",
       "2              0.001357         0.320484         0.137564         0.099260  \n",
       "3              0.001447         0.361042         0.152194         0.108697  \n",
       "4              0.000877         0.223138         0.092968         0.065531  \n",
       "\n",
       "[5 rows x 52 columns]"
      ]
     },
     "execution_count": 24,
     "metadata": {},
     "output_type": "execute_result"
    }
   ],
   "source": [
    "emissionsroads_PM10_df.head()"
   ]
  },
  {
   "cell_type": "code",
   "execution_count": 25,
   "id": "428ad8d2",
   "metadata": {},
   "outputs": [
    {
     "data": {
      "text/plain": [
       "(238317, 52)"
      ]
     },
     "execution_count": 25,
     "metadata": {},
     "output_type": "execute_result"
    }
   ],
   "source": [
    "emissionsroads_PM10_df.shape"
   ]
  },
  {
   "cell_type": "code",
   "execution_count": 53,
   "id": "f012ddb5",
   "metadata": {},
   "outputs": [
    {
     "data": {
      "text/plain": [
       "Index(['TOID', 'pollutant', 'pm-source', 'emissions-units',\n",
       "       'Road-Car-Petrol-2019', 'Road-Car-Petrol-2025', 'Road-Car-Petrol-2030',\n",
       "       'Road-Car-Diesel-2019', 'Road-Car-Diesel-2025', 'Road-Car-Diesel-2030',\n",
       "       'Road-Car-Electric-2019', 'Road-Car-Electric-2025',\n",
       "       'Road-Car-Electric-2030', 'Road-PHV-Petrol-2019',\n",
       "       'Road-PHV-Petrol-2025', 'Road-PHV-Petrol-2030', 'Road-PHV-Diesel-2019',\n",
       "       'Road-PHV-Diesel-2025', 'Road-PHV-Diesel-2030',\n",
       "       'Road-PHV-Electric-2019', 'Road-PHV-Electric-2025',\n",
       "       'Road-PHV-Electric-2030', 'Road-LGV-Petrol-2019',\n",
       "       'Road-LGV-Petrol-2025', 'Road-LGV-Petrol-2030', 'Road-LGV-Diesel-2019',\n",
       "       'Road-LGV-Diesel-2025', 'Road-LGV-Diesel-2030',\n",
       "       'Road-LGV-Electric-2019', 'Road-LGV-Electric-2025',\n",
       "       'Road-LGV-Electric-2030', 'Road-HGV-Rigid-2019', 'Road-HGV-Rigid-2025',\n",
       "       'Road-HGV-Rigid-2030', 'Road-HGV-Articulated-2019',\n",
       "       'Road-HGV-Articulated-2025', 'Road-HGV-Articulated-2030',\n",
       "       'Road-TfL-Bus-2019', 'Road-TfL-Bus-2025', 'Road-TfL-Bus-2030',\n",
       "       'Road-Non-TfL-Bus-or-Coach-2019', 'Road-Non-TfL-Bus-or-Coach-2025',\n",
       "       'Road-Non-TfL-Bus-or-Coach-2030', 'Road-Taxi-2019', 'Road-Taxi-2025',\n",
       "       'Road-Taxi-2030', 'Road-Motorcycle-2019', 'Road-Motorcycle-2025',\n",
       "       'Road-Motorcycle-2030', 'Road-Total-2019', 'Road-Total-2025',\n",
       "       'Road-Total-2030'],\n",
       "      dtype='object')"
      ]
     },
     "execution_count": 53,
     "metadata": {},
     "output_type": "execute_result"
    }
   ],
   "source": [
    "emissionsroads_PM10_df.columns"
   ]
  },
  {
   "cell_type": "markdown",
   "id": "71e4e6bb",
   "metadata": {},
   "source": [
    "We can find all columns related to emissions in 2025 and 2030 and drop them"
   ]
  },
  {
   "cell_type": "code",
   "execution_count": 45,
   "id": "5d09290b",
   "metadata": {},
   "outputs": [],
   "source": [
    "columns_to_drop = emissionsroads_PM10_df.filter(regex='2025|2030').columns"
   ]
  },
  {
   "cell_type": "code",
   "execution_count": 44,
   "id": "393414e0",
   "metadata": {},
   "outputs": [
    {
     "data": {
      "text/plain": [
       "Index(['Road-Car-Petrol-2025', 'Road-Car-Petrol-2030', 'Road-Car-Diesel-2025',\n",
       "       'Road-Car-Diesel-2030', 'Road-Car-Electric-2025',\n",
       "       'Road-Car-Electric-2030', 'Road-PHV-Petrol-2025',\n",
       "       'Road-PHV-Petrol-2030', 'Road-PHV-Diesel-2025', 'Road-PHV-Diesel-2030',\n",
       "       'Road-PHV-Electric-2025', 'Road-PHV-Electric-2030',\n",
       "       'Road-LGV-Petrol-2025', 'Road-LGV-Petrol-2030', 'Road-LGV-Diesel-2025',\n",
       "       'Road-LGV-Diesel-2030', 'Road-LGV-Electric-2025',\n",
       "       'Road-LGV-Electric-2030', 'Road-HGV-Rigid-2025', 'Road-HGV-Rigid-2030',\n",
       "       'Road-HGV-Articulated-2025', 'Road-HGV-Articulated-2030',\n",
       "       'Road-TfL-Bus-2025', 'Road-TfL-Bus-2030',\n",
       "       'Road-Non-TfL-Bus-or-Coach-2025', 'Road-Non-TfL-Bus-or-Coach-2030',\n",
       "       'Road-Taxi-2025', 'Road-Taxi-2030', 'Road-Motorcycle-2025',\n",
       "       'Road-Motorcycle-2030', 'Road-Total-2025', 'Road-Total-2030'],\n",
       "      dtype='object')"
      ]
     },
     "execution_count": 44,
     "metadata": {},
     "output_type": "execute_result"
    }
   ],
   "source": [
    "columns_to_drop"
   ]
  },
  {
   "cell_type": "code",
   "execution_count": 46,
   "id": "f75d5012",
   "metadata": {},
   "outputs": [],
   "source": [
    "emissionsroads2019_PM10_df = emissionsroads_PM10_df.drop(columns=columns_to_drop)"
   ]
  },
  {
   "cell_type": "markdown",
   "id": "ee875ba1",
   "metadata": {},
   "source": [
    "This is the data about 2019 PM10 emissions by road. It can be merged with the first dataset (traffic) using the TOID column"
   ]
  },
  {
   "cell_type": "code",
   "execution_count": 47,
   "id": "c35caab4",
   "metadata": {},
   "outputs": [
    {
     "data": {
      "text/plain": [
       "(238317, 20)"
      ]
     },
     "execution_count": 47,
     "metadata": {},
     "output_type": "execute_result"
    }
   ],
   "source": [
    "emissionsroads2019_PM10_df.shape"
   ]
  },
  {
   "cell_type": "code",
   "execution_count": 54,
   "id": "5a700984",
   "metadata": {},
   "outputs": [
    {
     "data": {
      "text/plain": [
       "Index(['TOID', 'pollutant', 'pm-source', 'emissions-units',\n",
       "       'Road-Car-Petrol-2019', 'Road-Car-Diesel-2019',\n",
       "       'Road-Car-Electric-2019', 'Road-PHV-Petrol-2019',\n",
       "       'Road-PHV-Diesel-2019', 'Road-PHV-Electric-2019',\n",
       "       'Road-LGV-Petrol-2019', 'Road-LGV-Diesel-2019',\n",
       "       'Road-LGV-Electric-2019', 'Road-HGV-Rigid-2019',\n",
       "       'Road-HGV-Articulated-2019', 'Road-TfL-Bus-2019',\n",
       "       'Road-Non-TfL-Bus-or-Coach-2019', 'Road-Taxi-2019',\n",
       "       'Road-Motorcycle-2019', 'Road-Total-2019'],\n",
       "      dtype='object')"
      ]
     },
     "execution_count": 54,
     "metadata": {},
     "output_type": "execute_result"
    }
   ],
   "source": [
    "emissionsroads2019_PM10_df.columns"
   ]
  },
  {
   "cell_type": "markdown",
   "id": "eecf1259",
   "metadata": {},
   "source": [
    "Finally, the fourth datasets are about concentration. We have four files and each of them contains concentration data for a specific pollutants (PM10m, PM10d, NO2, NOx, PM2.5)"
   ]
  },
  {
   "cell_type": "code",
   "execution_count": 19,
   "id": "0a5a3901",
   "metadata": {},
   "outputs": [],
   "source": [
    "concentrations_PM10_df = pd.read_csv(\"laei_LAEI2019v3_CorNOx15_PM10m.csv\")"
   ]
  },
  {
   "cell_type": "code",
   "execution_count": 20,
   "id": "cffc3c92",
   "metadata": {},
   "outputs": [
    {
     "data": {
      "text/html": [
       "<div>\n",
       "<style scoped>\n",
       "    .dataframe tbody tr th:only-of-type {\n",
       "        vertical-align: middle;\n",
       "    }\n",
       "\n",
       "    .dataframe tbody tr th {\n",
       "        vertical-align: top;\n",
       "    }\n",
       "\n",
       "    .dataframe thead th {\n",
       "        text-align: right;\n",
       "    }\n",
       "</style>\n",
       "<table border=\"1\" class=\"dataframe\">\n",
       "  <thead>\n",
       "    <tr style=\"text-align: right;\">\n",
       "      <th></th>\n",
       "      <th>x</th>\n",
       "      <th>y</th>\n",
       "      <th>conc</th>\n",
       "    </tr>\n",
       "  </thead>\n",
       "  <tbody>\n",
       "    <tr>\n",
       "      <th>0</th>\n",
       "      <td>519100</td>\n",
       "      <td>203440</td>\n",
       "      <td>15.09522</td>\n",
       "    </tr>\n",
       "    <tr>\n",
       "      <th>1</th>\n",
       "      <td>519120</td>\n",
       "      <td>203440</td>\n",
       "      <td>15.51029</td>\n",
       "    </tr>\n",
       "    <tr>\n",
       "      <th>2</th>\n",
       "      <td>519140</td>\n",
       "      <td>203440</td>\n",
       "      <td>16.40831</td>\n",
       "    </tr>\n",
       "    <tr>\n",
       "      <th>3</th>\n",
       "      <td>519160</td>\n",
       "      <td>203440</td>\n",
       "      <td>15.87096</td>\n",
       "    </tr>\n",
       "    <tr>\n",
       "      <th>4</th>\n",
       "      <td>519180</td>\n",
       "      <td>203440</td>\n",
       "      <td>15.34885</td>\n",
       "    </tr>\n",
       "  </tbody>\n",
       "</table>\n",
       "</div>"
      ],
      "text/plain": [
       "        x       y      conc\n",
       "0  519100  203440  15.09522\n",
       "1  519120  203440  15.51029\n",
       "2  519140  203440  16.40831\n",
       "3  519160  203440  15.87096\n",
       "4  519180  203440  15.34885"
      ]
     },
     "execution_count": 20,
     "metadata": {},
     "output_type": "execute_result"
    }
   ],
   "source": [
    "concentrations_PM10_df.head()"
   ]
  },
  {
   "cell_type": "code",
   "execution_count": 21,
   "id": "4d38ee7b",
   "metadata": {},
   "outputs": [
    {
     "data": {
      "text/plain": [
       "(5851964, 3)"
      ]
     },
     "execution_count": 21,
     "metadata": {},
     "output_type": "execute_result"
    }
   ],
   "source": [
    "concentrations_PM10_df.shape"
   ]
  },
  {
   "cell_type": "code",
   "execution_count": 28,
   "id": "ecb0a621",
   "metadata": {},
   "outputs": [
    {
     "data": {
      "text/plain": [
       "Index(['x', 'y', 'conc'], dtype='object')"
      ]
     },
     "execution_count": 28,
     "metadata": {},
     "output_type": "execute_result"
    }
   ],
   "source": [
    "concentrations_PM10_df.columns"
   ]
  },
  {
   "cell_type": "code",
   "execution_count": 55,
   "id": "1bf426c3",
   "metadata": {},
   "outputs": [
    {
     "data": {
      "text/plain": [
       "(79437, 48)"
      ]
     },
     "execution_count": 55,
     "metadata": {},
     "output_type": "execute_result"
    }
   ],
   "source": [
    "vkm_df.shape"
   ]
  },
  {
   "cell_type": "code",
   "execution_count": 56,
   "id": "db103aab",
   "metadata": {},
   "outputs": [
    {
     "data": {
      "text/plain": [
       "(238317, 20)"
      ]
     },
     "execution_count": 56,
     "metadata": {},
     "output_type": "execute_result"
    }
   ],
   "source": [
    "emissionsroads2019_PM10_df.shape"
   ]
  },
  {
   "cell_type": "code",
   "execution_count": 57,
   "id": "161e7403",
   "metadata": {},
   "outputs": [],
   "source": [
    "merged_df = vkm_df.merge(emissionsroads2019_PM10_df, on='TOID', how='left')\n"
   ]
  },
  {
   "cell_type": "code",
   "execution_count": 61,
   "id": "2479e3e4",
   "metadata": {},
   "outputs": [
    {
     "data": {
      "text/plain": [
       "(238213, 67)"
      ]
     },
     "execution_count": 61,
     "metadata": {},
     "output_type": "execute_result"
    }
   ],
   "source": [
    "merged_df.shape"
   ]
  },
  {
   "cell_type": "code",
   "execution_count": 62,
   "id": "09a28776",
   "metadata": {},
   "outputs": [
    {
     "data": {
      "text/plain": [
       "158776"
      ]
     },
     "execution_count": 62,
     "metadata": {},
     "output_type": "execute_result"
    }
   ],
   "source": [
    "merged_df['TOID'].duplicated().sum()"
   ]
  },
  {
   "cell_type": "code",
   "execution_count": null,
   "id": "13171d60",
   "metadata": {},
   "outputs": [],
   "source": []
  }
 ],
 "metadata": {
  "kernelspec": {
   "display_name": "Python 3 (ipykernel)",
   "language": "python",
   "name": "python3"
  },
  "language_info": {
   "codemirror_mode": {
    "name": "ipython",
    "version": 3
   },
   "file_extension": ".py",
   "mimetype": "text/x-python",
   "name": "python",
   "nbconvert_exporter": "python",
   "pygments_lexer": "ipython3",
   "version": "3.11.5"
  }
 },
 "nbformat": 4,
 "nbformat_minor": 5
}
